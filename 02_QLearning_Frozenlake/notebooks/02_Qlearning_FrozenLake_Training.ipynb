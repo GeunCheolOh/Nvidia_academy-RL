{
 "cells": [
  {
   "cell_type": "markdown",
   "metadata": {},
   "source": [
    "# FrozenLake Q-Learning 훈련 및 평가\n",
    "\n",
    "## 학습 목표\n",
    "- Q-Learning 알고리즘을 실제로 구현하고 훈련\n",
    "- 하이퍼파라미터 조정을 통한 성능 최적화\n",
    "- 학습 과정 시각화 및 결과 분석\n",
    "- 학습된 정책의 저장/로드 및 평가\n",
    "\n",
    "## 평가 기준\n",
    "- FrozenLake 4x4에서 70% 이상 성공률 달성\n",
    "- 재현 가능한 결과 (시드 고정)\n",
    "- 학습 곡선을 통한 수렴 확인\n",
    "- 저장/로드 후 동일한 성능 유지"
   ]
  },
  {
   "cell_type": "markdown",
   "metadata": {},
   "source": [
    "## 1. 환경 설정 및 라이브러리 import"
   ]
  },
  {
   "cell_type": "code",
   "execution_count": 1,
   "metadata": {},
   "outputs": [
    {
     "name": "stdout",
     "output_type": "stream",
     "text": [
      "로컬 utils 모듈을 찾을 수 없습니다. 필요한 함수들을 직접 정의합니다.\n",
      "Numpy version: 2.3.3\n",
      "Gymnasium version: 1.2.1\n",
      "Random seed: 42\n"
     ]
    }
   ],
   "source": [
    "# Google Colab에서 실행하는 경우 아래 주석을 해제하세요\n",
    "# !pip install -q gymnasium[toy_text] pygame matplotlib tqdm\n",
    "\n",
    "import numpy as np\n",
    "import matplotlib.pyplot as plt\n",
    "import gymnasium as gym\n",
    "from tqdm import tqdm\n",
    "import os\n",
    "import sys\n",
    "import json\n",
    "from IPython.display import HTML, clear_output\n",
    "import time\n",
    "\n",
    "# 로컬 환경에서는 utils 모듈 import\n",
    "# Colab에서는 필요한 함수들을 직접 정의\n",
    "try:\n",
    "    from utils import plot_moving_average, plot_training_metrics, save_q_table, load_q_table\n",
    "    LOCAL_ENV = True\n",
    "except ImportError:\n",
    "    LOCAL_ENV = False\n",
    "    print(\"로컬 utils 모듈을 찾을 수 없습니다. 필요한 함수들을 직접 정의합니다.\")\n",
    "\n",
    "# 재현성을 위한 시드 고정\n",
    "SEED = 42\n",
    "np.random.seed(SEED)\n",
    "\n",
    "print(f\"Numpy version: {np.__version__}\")\n",
    "print(f\"Gymnasium version: {gym.__version__}\")\n",
    "print(f\"Random seed: {SEED}\")"
   ]
  },
  {
   "cell_type": "markdown",
   "metadata": {},
   "source": [
    "## 2. 유틸리티 함수 정의 (Colab용)"
   ]
  },
  {
   "cell_type": "code",
   "execution_count": 2,
   "metadata": {},
   "outputs": [
    {
     "name": "stdout",
     "output_type": "stream",
     "text": [
      "유틸리티 함수 준비 완료!\n"
     ]
    }
   ],
   "source": [
    "# Colab 환경에서 필요한 함수들 정의\n",
    "if not LOCAL_ENV:\n",
    "    def plot_moving_average(episodes, values, window_size=100, title=\"Moving Average\", ylabel=\"Value\"):\n",
    "        \"\"\"이동 평균 플롯\"\"\"\n",
    "        if len(values) < window_size:\n",
    "            window_size = len(values)\n",
    "        \n",
    "        moving_avg = []\n",
    "        for i in range(len(values)):\n",
    "            start_idx = max(0, i - window_size + 1)\n",
    "            moving_avg.append(np.mean(values[start_idx:i+1]))\n",
    "        \n",
    "        plt.figure(figsize=(10, 6))\n",
    "        plt.plot(episodes, moving_avg)\n",
    "        plt.xlabel('Episode')\n",
    "        plt.ylabel(ylabel)\n",
    "        plt.title(f'{title} (Window Size: {window_size})')\n",
    "        plt.grid(True)\n",
    "        plt.show()\n",
    "    \n",
    "    def save_q_table(q_table, filepath):\n",
    "        \"\"\"Q-table 저장\"\"\"\n",
    "        np.save(filepath, q_table)\n",
    "        print(f\"Q-table saved to {filepath}\")\n",
    "    \n",
    "    def load_q_table(filepath):\n",
    "        \"\"\"Q-table 로드\"\"\"\n",
    "        q_table = np.load(filepath)\n",
    "        print(f\"Q-table loaded from {filepath}\")\n",
    "        return q_table\n",
    "\n",
    "print(\"유틸리티 함수 준비 완료!\")"
   ]
  },
  {
   "cell_type": "markdown",
   "metadata": {},
   "source": [
    "## 3. FrozenLake 환경 탐색"
   ]
  },
  {
   "cell_type": "code",
   "execution_count": 3,
   "metadata": {},
   "outputs": [
    {
     "name": "stdout",
     "output_type": "stream",
     "text": [
      "=== FrozenLake 환경 정보 ===\n",
      "상태 공간 크기: 16\n",
      "행동 공간 크기: 4\n",
      "행동 의미: 0=Left, 1=Down, 2=Right, 3=Up\n",
      "\n",
      "=== 환경 맵 ===\n",
      "시작 상태: 0\n",
      "\n",
      "맵 구조 (4x4):\n",
      "SFFF  S: 시작점 (Start)\n",
      "FHFH  F: 얼어붙은 표면 (Frozen)\n",
      "FFFH  H: 구멍 (Hole)\n",
      "HFFG  G: 목표 (Goal)\n",
      "\n",
      "상태 번호 매핑:\n",
      " 0  1  2  3\n",
      " 4  5  6  7\n",
      " 8  9 10 11\n",
      "12 13 14 15\n"
     ]
    }
   ],
   "source": [
    "# FrozenLake 환경 생성 및 기본 정보 확인\n",
    "env = gym.make(\"FrozenLake-v1\", map_name=\"4x4\", is_slippery=True, render_mode=\"rgb_array\")\n",
    "\n",
    "print(\"=== FrozenLake 환경 정보 ===\")\n",
    "print(f\"상태 공간 크기: {env.observation_space.n}\")\n",
    "print(f\"행동 공간 크기: {env.action_space.n}\")\n",
    "print(f\"행동 의미: 0=Left, 1=Down, 2=Right, 3=Up\")\n",
    "print()\n",
    "\n",
    "# 환경 맵 시각화\n",
    "print(\"=== 환경 맵 ===\")\n",
    "state, _ = env.reset(seed=SEED)\n",
    "print(f\"시작 상태: {state}\")\n",
    "\n",
    "# 맵 구조 설명\n",
    "print(\"\\n맵 구조 (4x4):\")\n",
    "print(\"SFFF  S: 시작점 (Start)\")\n",
    "print(\"FHFH  F: 얼어붙은 표면 (Frozen)\")\n",
    "print(\"FFFH  H: 구멍 (Hole)\")\n",
    "print(\"HFFG  G: 목표 (Goal)\")\n",
    "print()\n",
    "\n",
    "# 상태 번호 매핑 설명\n",
    "print(\"상태 번호 매핑:\")\n",
    "for i in range(4):\n",
    "    row = []\n",
    "    for j in range(4):\n",
    "        state_num = i * 4 + j\n",
    "        row.append(f\"{state_num:2d}\")\n",
    "    print(\" \".join(row))\n",
    "\n",
    "env.close()"
   ]
  },
  {
   "cell_type": "markdown",
   "metadata": {},
   "source": [
    "## 4. Q-Learning 에이전트 구현"
   ]
  },
  {
   "cell_type": "code",
   "execution_count": 4,
   "metadata": {},
   "outputs": [
    {
     "name": "stdout",
     "output_type": "stream",
     "text": [
      "Q-Learning 에이전트 클래스 정의 완료!\n"
     ]
    }
   ],
   "source": [
    "class QLearningAgent:\n",
    "    def __init__(self, state_size, action_size, learning_rate=0.1, \n",
    "                 discount_factor=0.95, epsilon_start=1.0, epsilon_min=0.01, \n",
    "                 epsilon_decay=0.995):\n",
    "        \"\"\"\n",
    "        Q-Learning 에이전트 초기화\n",
    "        \n",
    "        Args:\n",
    "            state_size: 상태 공간 크기\n",
    "            action_size: 행동 공간 크기\n",
    "            learning_rate: 학습률 (α)\n",
    "            discount_factor: 할인 인수 (γ)\n",
    "            epsilon_start: 초기 탐험률\n",
    "            epsilon_min: 최소 탐험률\n",
    "            epsilon_decay: 탐험률 감쇠\n",
    "        \"\"\"\n",
    "        self.state_size = state_size\n",
    "        self.action_size = action_size\n",
    "        self.learning_rate = learning_rate\n",
    "        self.discount_factor = discount_factor\n",
    "        self.epsilon = epsilon_start\n",
    "        self.epsilon_min = epsilon_min\n",
    "        self.epsilon_decay = epsilon_decay\n",
    "        \n",
    "        # Q-table 초기화 (모든 값을 0으로)\n",
    "        self.q_table = np.zeros((state_size, action_size))\n",
    "        \n",
    "        # 학습 통계\n",
    "        self.training_info = {\n",
    "            'total_updates': 0,\n",
    "            'states_visited': set()\n",
    "        }\n",
    "    \n",
    "    def choose_action(self, state, training=True):\n",
    "        \"\"\"\n",
    "        ε-greedy 정책으로 행동 선택\n",
    "        \n",
    "        Args:\n",
    "            state: 현재 상태\n",
    "            training: 훈련 모드 여부 (False면 greedy 정책만 사용)\n",
    "            \n",
    "        Returns:\n",
    "            선택된 행동\n",
    "        \"\"\"\n",
    "        self.training_info['states_visited'].add(state)\n",
    "        \n",
    "        if training and np.random.random() < self.epsilon:\n",
    "            # 탐험: 무작위 행동\n",
    "            return np.random.choice(self.action_size)\n",
    "        else:\n",
    "            # 활용: 최선 행동 (tie-breaking 포함)\n",
    "            q_values = self.q_table[state]\n",
    "            max_q = np.max(q_values)\n",
    "            best_actions = np.where(q_values == max_q)[0]\n",
    "            return np.random.choice(best_actions)\n",
    "    \n",
    "    def update_q_table(self, state, action, reward, next_state, done):\n",
    "        \"\"\"\n",
    "        Q-learning 업데이트 규칙 적용\n",
    "        \n",
    "        Q(s,a) ← Q(s,a) + α[r + γ max Q(s',a') - Q(s,a)]\n",
    "        \"\"\"\n",
    "        current_q = self.q_table[state, action]\n",
    "        \n",
    "        if done:\n",
    "            # 종료 상태에서는 미래 보상이 없음\n",
    "            target_q = reward\n",
    "        else:\n",
    "            # TD 목표값 계산\n",
    "            target_q = reward + self.discount_factor * np.max(self.q_table[next_state])\n",
    "        \n",
    "        # Q-table 업데이트\n",
    "        self.q_table[state, action] = current_q + self.learning_rate * (target_q - current_q)\n",
    "        self.training_info['total_updates'] += 1\n",
    "    \n",
    "    def decay_epsilon(self):\n",
    "        \"\"\"탐험률 감쇠\"\"\"\n",
    "        self.epsilon = max(self.epsilon_min, self.epsilon * self.epsilon_decay)\n",
    "    \n",
    "    def get_policy(self):\n",
    "        \"\"\"현재 Q-table로부터 greedy 정책 추출\"\"\"\n",
    "        return np.argmax(self.q_table, axis=1)\n",
    "    \n",
    "    def get_state_values(self):\n",
    "        \"\"\"각 상태의 가치 (최대 Q-값) 반환\"\"\"\n",
    "        return np.max(self.q_table, axis=1)\n",
    "\n",
    "print(\"Q-Learning 에이전트 클래스 정의 완료!\")"
   ]
  },
  {
   "cell_type": "markdown",
   "metadata": {},
   "source": [
    "## 5. 훈련 함수 구현"
   ]
  },
  {
   "cell_type": "code",
   "execution_count": 5,
   "metadata": {},
   "outputs": [
    {
     "name": "stdout",
     "output_type": "stream",
     "text": [
      "훈련 함수 정의 완료!\n"
     ]
    }
   ],
   "source": [
    "def train_q_learning(env, agent, num_episodes, max_steps_per_episode=100, \n",
    "                    log_interval=500, verbose=True):\n",
    "    \"\"\"\n",
    "    Q-Learning 에이전트 훈련\n",
    "    \n",
    "    Args:\n",
    "        env: Gymnasium 환경\n",
    "        agent: Q-Learning 에이전트\n",
    "        num_episodes: 훈련 에피소드 수\n",
    "        max_steps_per_episode: 에피소드당 최대 스텝 수\n",
    "        log_interval: 로그 출력 간격\n",
    "        verbose: 진행 상황 출력 여부\n",
    "        \n",
    "    Returns:\n",
    "        훈련 통계 딕셔너리\n",
    "    \"\"\"\n",
    "    # 훈련 통계 저장\n",
    "    episode_rewards = []\n",
    "    episode_lengths = []\n",
    "    success_episodes = []\n",
    "    epsilon_values = []\n",
    "    \n",
    "    # 성공률 추적을 위한 윈도우\n",
    "    success_window = []\n",
    "    window_size = 100\n",
    "    \n",
    "    if verbose:\n",
    "        print(f\"Q-Learning 훈련 시작: {num_episodes} 에피소드\")\n",
    "        print(f\"환경: {env.spec.id}\")\n",
    "        print(f\"하이퍼파라미터:\")\n",
    "        print(f\"  학습률 (α): {agent.learning_rate}\")\n",
    "        print(f\"  할인인수 (γ): {agent.discount_factor}\")\n",
    "        print(f\"  초기 ε: {agent.epsilon}\")\n",
    "        print(f\"  최소 ε: {agent.epsilon_min}\")\n",
    "        print(f\"  ε 감쇠: {agent.epsilon_decay}\")\n",
    "        print()\n",
    "    \n",
    "    # 훈련 루프\n",
    "    for episode in tqdm(range(num_episodes), desc=\"훈련 진행\", disable=not verbose):\n",
    "        state, _ = env.reset()\n",
    "        total_reward = 0\n",
    "        steps = 0\n",
    "        \n",
    "        # 에피소드 내 스텝 루프\n",
    "        for step in range(max_steps_per_episode):\n",
    "            # 행동 선택\n",
    "            action = agent.choose_action(state, training=True)\n",
    "            \n",
    "            # 환경에서 행동 실행\n",
    "            next_state, reward, terminated, truncated, _ = env.step(action)\n",
    "            done = terminated or truncated\n",
    "            \n",
    "            # Q-table 업데이트\n",
    "            agent.update_q_table(state, action, reward, next_state, done)\n",
    "            \n",
    "            # 상태 전이 및 통계 업데이트\n",
    "            state = next_state\n",
    "            total_reward += reward\n",
    "            steps += 1\n",
    "            \n",
    "            if done:\n",
    "                break\n",
    "        \n",
    "        # ε 감쇠\n",
    "        agent.decay_epsilon()\n",
    "        \n",
    "        # 에피소드 통계 기록\n",
    "        episode_rewards.append(total_reward)\n",
    "        episode_lengths.append(steps)\n",
    "        success_episodes.append(1 if total_reward > 0 else 0)\n",
    "        epsilon_values.append(agent.epsilon)\n",
    "        \n",
    "        # 성공률 윈도우 업데이트\n",
    "        success_window.append(1 if total_reward > 0 else 0)\n",
    "        if len(success_window) > window_size:\n",
    "            success_window.pop(0)\n",
    "        \n",
    "        # 주기적 로그 출력\n",
    "        if verbose and (episode + 1) % log_interval == 0:\n",
    "            recent_rewards = episode_rewards[-log_interval:]\n",
    "            avg_reward = np.mean(recent_rewards)\n",
    "            success_rate = np.mean(success_window) * 100\n",
    "            \n",
    "            print(f\"\\nEpisode {episode + 1}/{num_episodes}\")\n",
    "            print(f\"  최근 {log_interval} 에피소드 평균 보상: {avg_reward:.3f}\")\n",
    "            print(f\"  최근 {len(success_window)} 에피소드 성공률: {success_rate:.1f}%\")\n",
    "            print(f\"  현재 ε: {agent.epsilon:.3f}\")\n",
    "            print(f\"  방문한 상태 수: {len(agent.training_info['states_visited'])}\")\n",
    "            print(f\"  총 업데이트 횟수: {agent.training_info['total_updates']}\")\n",
    "    \n",
    "    # 최종 통계\n",
    "    final_success_rate = np.mean(success_window) * 100\n",
    "    overall_success_rate = np.mean(success_episodes) * 100\n",
    "    \n",
    "    if verbose:\n",
    "        print(f\"\\n=== 훈련 완료 ===\")\n",
    "        print(f\"최종 성공률 (최근 {len(success_window)}): {final_success_rate:.1f}%\")\n",
    "        print(f\"전체 성공률: {overall_success_rate:.1f}%\")\n",
    "        print(f\"최종 ε: {agent.epsilon:.3f}\")\n",
    "        print(f\"총 방문 상태: {len(agent.training_info['states_visited'])}/{agent.state_size}\")\n",
    "        print(f\"총 Q-table 업데이트: {agent.training_info['total_updates']}\")\n",
    "    \n",
    "    return {\n",
    "        'episode_rewards': episode_rewards,\n",
    "        'episode_lengths': episode_lengths,\n",
    "        'success_episodes': success_episodes,\n",
    "        'epsilon_values': epsilon_values,\n",
    "        'final_success_rate': final_success_rate,\n",
    "        'overall_success_rate': overall_success_rate,\n",
    "        'states_visited': len(agent.training_info['states_visited']),\n",
    "        'total_updates': agent.training_info['total_updates']\n",
    "    }\n",
    "\n",
    "print(\"훈련 함수 정의 완료!\")"
   ]
  },
  {
   "cell_type": "markdown",
   "metadata": {},
   "source": [
    "## 6. 기본 설정으로 훈련 실행"
   ]
  },
  {
   "cell_type": "code",
   "execution_count": 6,
   "metadata": {},
   "outputs": [
    {
     "name": "stdout",
     "output_type": "stream",
     "text": [
      "=== 기본 설정으로 훈련 시작 ===\n",
      "Q-table 초기 상태: 모든 값이 0\n",
      "Q-table 크기: (16, 4)\n",
      "\n",
      "Q-Learning 훈련 시작: 5000 에피소드\n",
      "환경: FrozenLake-v1\n",
      "하이퍼파라미터:\n",
      "  학습률 (α): 0.1\n",
      "  할인인수 (γ): 0.95\n",
      "  초기 ε: 1.0\n",
      "  최소 ε: 0.01\n",
      "  ε 감쇠: 0.995\n",
      "\n"
     ]
    },
    {
     "name": "stderr",
     "output_type": "stream",
     "text": [
      "훈련 진행:  29%|██▉       | 1447/5000 [00:00<00:01, 2018.22it/s]"
     ]
    },
    {
     "name": "stdout",
     "output_type": "stream",
     "text": [
      "\n",
      "Episode 1000/5000\n",
      "  최근 1000 에피소드 평균 보상: 0.347\n",
      "  최근 100 에피소드 성공률: 59.0%\n",
      "  현재 ε: 0.010\n",
      "  방문한 상태 수: 11\n",
      "  총 업데이트 횟수: 22923\n"
     ]
    },
    {
     "name": "stderr",
     "output_type": "stream",
     "text": [
      "훈련 진행:  44%|████▍     | 2202/5000 [00:01<00:01, 1405.30it/s]"
     ]
    },
    {
     "name": "stdout",
     "output_type": "stream",
     "text": [
      "\n",
      "Episode 2000/5000\n",
      "  최근 1000 에피소드 평균 보상: 0.575\n",
      "  최근 100 에피소드 성공률: 61.0%\n",
      "  현재 ε: 0.010\n",
      "  방문한 상태 수: 11\n",
      "  총 업데이트 횟수: 59266\n"
     ]
    },
    {
     "name": "stderr",
     "output_type": "stream",
     "text": [
      "훈련 진행:  66%|██████▌   | 3295/5000 [00:01<00:01, 1505.21it/s]"
     ]
    },
    {
     "name": "stdout",
     "output_type": "stream",
     "text": [
      "\n",
      "Episode 3000/5000\n",
      "  최근 1000 에피소드 평균 보상: 0.640\n",
      "  최근 100 에피소드 성공률: 55.0%\n",
      "  현재 ε: 0.010\n",
      "  방문한 상태 수: 11\n",
      "  총 업데이트 횟수: 95497\n"
     ]
    },
    {
     "name": "stderr",
     "output_type": "stream",
     "text": [
      "훈련 진행:  85%|████████▍ | 4228/5000 [00:02<00:00, 1525.93it/s]"
     ]
    },
    {
     "name": "stdout",
     "output_type": "stream",
     "text": [
      "\n",
      "Episode 4000/5000\n",
      "  최근 1000 에피소드 평균 보상: 0.650\n",
      "  최근 100 에피소드 성공률: 54.0%\n",
      "  현재 ε: 0.010\n",
      "  방문한 상태 수: 11\n",
      "  총 업데이트 횟수: 133423\n"
     ]
    },
    {
     "name": "stderr",
     "output_type": "stream",
     "text": [
      "훈련 진행: 100%|██████████| 5000/5000 [00:03<00:00, 1655.99it/s]"
     ]
    },
    {
     "name": "stdout",
     "output_type": "stream",
     "text": [
      "\n",
      "Episode 5000/5000\n",
      "  최근 1000 에피소드 평균 보상: 0.637\n",
      "  최근 100 에피소드 성공률: 59.0%\n",
      "  현재 ε: 0.010\n",
      "  방문한 상태 수: 11\n",
      "  총 업데이트 횟수: 170058\n",
      "\n",
      "=== 훈련 완료 ===\n",
      "최종 성공률 (최근 100): 59.0%\n",
      "전체 성공률: 57.0%\n",
      "최종 ε: 0.010\n",
      "총 방문 상태: 11/16\n",
      "총 Q-table 업데이트: 170058\n",
      "\n",
      "기본 훈련 완료!\n"
     ]
    },
    {
     "name": "stderr",
     "output_type": "stream",
     "text": [
      "\n"
     ]
    }
   ],
   "source": [
    "# 환경 생성\n",
    "env = gym.make(\"FrozenLake-v1\", map_name=\"4x4\", is_slippery=True, render_mode=None)\n",
    "\n",
    "# 에이전트 생성 (기본 하이퍼파라미터)\n",
    "agent = QLearningAgent(\n",
    "    state_size=env.observation_space.n,\n",
    "    action_size=env.action_space.n,\n",
    "    learning_rate=0.1,\n",
    "    discount_factor=0.95,\n",
    "    epsilon_start=1.0,\n",
    "    epsilon_min=0.01,\n",
    "    epsilon_decay=0.995\n",
    ")\n",
    "\n",
    "print(\"=== 기본 설정으로 훈련 시작 ===\")\n",
    "print(f\"Q-table 초기 상태: 모든 값이 0\")\n",
    "print(f\"Q-table 크기: {agent.q_table.shape}\")\n",
    "print()\n",
    "\n",
    "# 훈련 실행\n",
    "training_stats = train_q_learning(\n",
    "    env=env,\n",
    "    agent=agent,\n",
    "    num_episodes=5000,\n",
    "    max_steps_per_episode=100,\n",
    "    log_interval=1000,\n",
    "    verbose=True\n",
    ")\n",
    "\n",
    "env.close()\n",
    "print(\"\\n기본 훈련 완료!\")"
   ]
  },
  {
   "cell_type": "markdown",
   "metadata": {},
   "source": [
    "## 7. 학습 결과 시각화"
   ]
  },
  {
   "cell_type": "code",
   "execution_count": 7,
   "metadata": {},
   "outputs": [
    {
     "data": {
      "image/png": "[encoded data removed]",
      "text/plain": [
       "<Figure size 1000x600 with 1 Axes>"
      ]
     },
     "metadata": {},
     "output_type": "display_data"
    },
    {
     "data": {
      "image/png": "[encoded data removed]",
      "text/plain": [
       "<Figure size 1000x600 with 1 Axes>"
      ]
     },
     "metadata": {},
     "output_type": "display_data"
    },
    {
     "data": {
      "image/png": "[encoded data removed]",
      "text/plain": [
       "<Figure size 1000x600 with 1 Axes>"
      ]
     },
     "metadata": {},
     "output_type": "display_data"
    },
    {
     "name": "stdout",
     "output_type": "stream",
     "text": [
      "최종 성공률: 59.0%\n",
      "목표 달성 여부: ✗ 미달\n"
     ]
    }
   ],
   "source": [
    "# 에피소드 번호 생성\n",
    "episodes = list(range(1, len(training_stats['episode_rewards']) + 1))\n",
    "\n",
    "# 1. 이동 평균 보상 곡선\n",
    "plot_moving_average(\n",
    "    episodes=episodes, \n",
    "    values=training_stats['episode_rewards'],\n",
    "    window_size=100,\n",
    "    title=\"Episode Returns (Moving Average)\",\n",
    "    ylabel=\"Average Return\"\n",
    ")\n",
    "\n",
    "# 2. 성공률 곡선\n",
    "# 윈도우 기반 성공률 계산\n",
    "window_size = 100\n",
    "success_rates = []\n",
    "for i in range(len(training_stats['success_episodes'])):\n",
    "    start_idx = max(0, i - window_size + 1)\n",
    "    window_success_rate = np.mean(training_stats['success_episodes'][start_idx:i+1]) * 100\n",
    "    success_rates.append(window_success_rate)\n",
    "\n",
    "plt.figure(figsize=(10, 6))\n",
    "plt.plot(episodes, success_rates)\n",
    "plt.xlabel('Episode')\n",
    "plt.ylabel('Success Rate (%)')\n",
    "plt.title(f'Success Rate Over Time (Window Size: {window_size})')\n",
    "plt.grid(True)\n",
    "plt.axhline(y=70, color='r', linestyle='--', label='Target (70%)')\n",
    "plt.legend()\n",
    "plt.show()\n",
    "\n",
    "# 3. ε 값 변화\n",
    "plt.figure(figsize=(10, 6))\n",
    "plt.plot(episodes, training_stats['epsilon_values'])\n",
    "plt.xlabel('Episode')\n",
    "plt.ylabel('Epsilon Value')\n",
    "plt.title('Exploration Rate (Epsilon) Decay')\n",
    "plt.grid(True)\n",
    "plt.show()\n",
    "\n",
    "print(f\"최종 성공률: {training_stats['final_success_rate']:.1f}%\")\n",
    "print(f\"목표 달성 여부: {'✓ 성공' if training_stats['final_success_rate'] >= 70 else '✗ 미달'}\")"
   ]
  },
  {
   "cell_type": "markdown",
   "metadata": {},
   "source": [
    "## 8. Q-Table 분석 및 시각화"
   ]
  },
  {
   "cell_type": "code",
   "execution_count": 8,
   "metadata": {},
   "outputs": [
    {
     "name": "stdout",
     "output_type": "stream",
     "text": [
      "=== Q-Table 분석 ===\n",
      "Q-table 크기: (16, 4)\n",
      "0이 아닌 Q-값 개수: 43\n",
      "최대 Q-값: 0.686\n",
      "최소 Q-값: 0.000\n",
      "\n"
     ]
    },
    {
     "data": {
      "image/png": "[encoded data removed]",
      "text/plain": [
       "<Figure size 800x600 with 2 Axes>"
      ]
     },
     "metadata": {},
     "output_type": "display_data"
    },
    {
     "data": {
      "image/png": "[encoded data removed]",
      "text/plain": [
       "<Figure size 800x600 with 1 Axes>"
      ]
     },
     "metadata": {},
     "output_type": "display_data"
    }
   ],
   "source": [
    "# Q-table 기본 정보\n",
    "print(\"=== Q-Table 분석 ===\")\n",
    "print(f\"Q-table 크기: {agent.q_table.shape}\")\n",
    "print(f\"0이 아닌 Q-값 개수: {np.count_nonzero(agent.q_table)}\")\n",
    "print(f\"최대 Q-값: {np.max(agent.q_table):.3f}\")\n",
    "print(f\"최소 Q-값: {np.min(agent.q_table):.3f}\")\n",
    "print()\n",
    "\n",
    "# 각 상태의 최대 Q-값 히트맵\n",
    "max_q_values = np.max(agent.q_table, axis=1)\n",
    "q_grid = max_q_values.reshape(4, 4)\n",
    "\n",
    "plt.figure(figsize=(8, 6))\n",
    "im = plt.imshow(q_grid, cmap='viridis')\n",
    "plt.colorbar(im, label='Max Q-Value')\n",
    "plt.title('Q-Table Heatmap (Max Q-Values per State)')\n",
    "\n",
    "# 각 셀에 값 표시\n",
    "for i in range(4):\n",
    "    for j in range(4):\n",
    "        state = i * 4 + j\n",
    "        text = f'{max_q_values[state]:.2f}'\n",
    "        plt.text(j, i, text, ha='center', va='center', \n",
    "                color='white' if max_q_values[state] < np.max(max_q_values)/2 else 'black',\n",
    "                fontweight='bold')\n",
    "\n",
    "plt.xlabel('Column')\n",
    "plt.ylabel('Row')\n",
    "plt.show()\n",
    "\n",
    "# 학습된 정책 시각화 (화살표)\n",
    "policy = agent.get_policy()\n",
    "action_arrows = {0: '←', 1: '↓', 2: '→', 3: '↑'}\n",
    "\n",
    "plt.figure(figsize=(8, 6))\n",
    "for i in range(4):\n",
    "    for j in range(4):\n",
    "        state = i * 4 + j\n",
    "        best_action = policy[state]\n",
    "        arrow = action_arrows[best_action]\n",
    "        \n",
    "        # 특별한 상태 표시\n",
    "        if state == 0:  # 시작점\n",
    "            color = 'green'\n",
    "        elif state == 15:  # 목표점\n",
    "            color = 'red'\n",
    "        elif state in [5, 7, 11, 12]:  # 구멍\n",
    "            color = 'gray'\n",
    "            arrow = 'H'  # Hole\n",
    "        else:\n",
    "            color = 'blue'\n",
    "        \n",
    "        plt.text(j, i, arrow, ha='center', va='center', \n",
    "                fontsize=16, fontweight='bold', color=color)\n",
    "        \n",
    "        # 격자 선\n",
    "        plt.axhline(y=i-0.5, color='black', linewidth=1)\n",
    "        plt.axvline(x=j-0.5, color='black', linewidth=1)\n",
    "\n",
    "plt.axhline(y=3.5, color='black', linewidth=1)\n",
    "plt.axvline(x=3.5, color='black', linewidth=1)\n",
    "\n",
    "plt.xlim(-0.5, 3.5)\n",
    "plt.ylim(-0.5, 3.5)\n",
    "plt.gca().invert_yaxis()\n",
    "plt.title('Learned Policy (Best Actions)\\nGreen=Start, Red=Goal, Gray=Hole')\n",
    "plt.xlabel('Column')\n",
    "plt.ylabel('Row')\n",
    "plt.xticks(range(4))\n",
    "plt.yticks(range(4))\n",
    "plt.show()"
   ]
  },
  {
   "cell_type": "markdown",
   "metadata": {},
   "source": [
    "## 9. 하이퍼파라미터 실험"
   ]
  },
  {
   "cell_type": "code",
   "execution_count": 9,
   "metadata": {},
   "outputs": [
    {
     "name": "stdout",
     "output_type": "stream",
     "text": [
      "=== 하이퍼파라미터 실험 ===\n",
      "\n",
      "실험: Conservative\n",
      "α=0.1, γ=0.99, ε_decay=0.998\n",
      "최종 성공률: 62.0%\n",
      "\n",
      "실험: Balanced\n",
      "α=0.1, γ=0.95, ε_decay=0.995\n",
      "최종 성공률: 60.0%\n",
      "\n",
      "실험: Aggressive\n",
      "α=0.3, γ=0.95, ε_decay=0.99\n",
      "최종 성공률: 69.0%\n",
      "\n",
      "실험: High_Discount\n",
      "α=0.1, γ=0.99, ε_decay=0.995\n",
      "최종 성공률: 64.0%\n",
      "\n",
      "실험: Low_Learning\n",
      "α=0.05, γ=0.95, ε_decay=0.995\n",
      "최종 성공률: 2.0%\n",
      "\n",
      "=== 실험 결과 요약 ===\n",
      "실험명             α      γ      ε_decay  최종 성공률     전체 성공률    \n",
      "-----------------------------------------------------------------\n",
      "Conservative    0.1    0.99   0.998    62.0       43.2      \n",
      "Balanced        0.1    0.95   0.995    60.0       49.6      \n",
      "Aggressive      0.3    0.95   0.99     69.0       44.9      \n",
      "High_Discount   0.1    0.99   0.995    64.0       56.3      \n",
      "Low_Learning    0.05   0.95   0.995    2.0        2.8       \n",
      "\n",
      "🏆 최고 성능: Aggressive (69.0%)\n"
     ]
    }
   ],
   "source": [
    "# 다양한 하이퍼파라미터 조합 실험\n",
    "print(\"=== 하이퍼파라미터 실험 ===\")\n",
    "\n",
    "# 실험 설정\n",
    "experiments = [\n",
    "    {'name': 'Conservative', 'alpha': 0.1, 'gamma': 0.99, 'eps_decay': 0.998},\n",
    "    {'name': 'Balanced', 'alpha': 0.1, 'gamma': 0.95, 'eps_decay': 0.995},\n",
    "    {'name': 'Aggressive', 'alpha': 0.3, 'gamma': 0.95, 'eps_decay': 0.99},\n",
    "    {'name': 'High_Discount', 'alpha': 0.1, 'gamma': 0.99, 'eps_decay': 0.995},\n",
    "    {'name': 'Low_Learning', 'alpha': 0.05, 'gamma': 0.95, 'eps_decay': 0.995}\n",
    "]\n",
    "\n",
    "experiment_results = []\n",
    "\n",
    "for exp in experiments:\n",
    "    print(f\"\\n실험: {exp['name']}\")\n",
    "    print(f\"α={exp['alpha']}, γ={exp['gamma']}, ε_decay={exp['eps_decay']}\")\n",
    "    \n",
    "    # 환경 및 에이전트 생성\n",
    "    env = gym.make(\"FrozenLake-v1\", map_name=\"4x4\", is_slippery=True, render_mode=None)\n",
    "    agent = QLearningAgent(\n",
    "        state_size=env.observation_space.n,\n",
    "        action_size=env.action_space.n,\n",
    "        learning_rate=exp['alpha'],\n",
    "        discount_factor=exp['gamma'],\n",
    "        epsilon_decay=exp['eps_decay']\n",
    "    )\n",
    "    \n",
    "    # 훈련 (짧게)\n",
    "    stats = train_q_learning(\n",
    "        env=env, \n",
    "        agent=agent, \n",
    "        num_episodes=3000,\n",
    "        verbose=False\n",
    "    )\n",
    "    \n",
    "    experiment_results.append({\n",
    "        'name': exp['name'],\n",
    "        'params': exp,\n",
    "        'final_success_rate': stats['final_success_rate'],\n",
    "        'overall_success_rate': stats['overall_success_rate']\n",
    "    })\n",
    "    \n",
    "    print(f\"최종 성공률: {stats['final_success_rate']:.1f}%\")\n",
    "    env.close()\n",
    "\n",
    "# 실험 결과 요약\n",
    "print(\"\\n=== 실험 결과 요약 ===\")\n",
    "print(f\"{'실험명':<15} {'α':<6} {'γ':<6} {'ε_decay':<8} {'최종 성공률':<10} {'전체 성공률':<10}\")\n",
    "print(\"-\" * 65)\n",
    "\n",
    "for result in experiment_results:\n",
    "    print(f\"{result['name']:<15} \"\n",
    "          f\"{result['params']['alpha']:<6} \"\n",
    "          f\"{result['params']['gamma']:<6} \"\n",
    "          f\"{result['params']['eps_decay']:<8} \"\n",
    "          f\"{result['final_success_rate']:<10.1f} \"\n",
    "          f\"{result['overall_success_rate']:<10.1f}\")\n",
    "\n",
    "# 최고 성능 찾기\n",
    "best_experiment = max(experiment_results, key=lambda x: x['final_success_rate'])\n",
    "print(f\"\\n🏆 최고 성능: {best_experiment['name']} ({best_experiment['final_success_rate']:.1f}%)\")"
   ]
  },
  {
   "cell_type": "markdown",
   "metadata": {},
   "source": [
    "## 10. 모델 저장 및 로드"
   ]
  },
  {
   "cell_type": "code",
   "execution_count": 10,
   "metadata": {},
   "outputs": [
    {
     "name": "stdout",
     "output_type": "stream",
     "text": [
      "=== 최종 모델 훈련 및 저장 ===\n",
      "Q-Learning 훈련 시작: 5000 에피소드\n",
      "환경: FrozenLake-v1\n",
      "하이퍼파라미터:\n",
      "  학습률 (α): 0.3\n",
      "  할인인수 (γ): 0.95\n",
      "  초기 ε: 1.0\n",
      "  최소 ε: 0.01\n",
      "  ε 감쇠: 0.99\n",
      "\n"
     ]
    },
    {
     "name": "stderr",
     "output_type": "stream",
     "text": [
      "훈련 진행:  23%|██▎       | 1150/5000 [00:00<00:00, 5561.58it/s]"
     ]
    },
    {
     "name": "stdout",
     "output_type": "stream",
     "text": [
      "\n",
      "Episode 500/5000\n",
      "  최근 500 에피소드 평균 보상: 0.040\n",
      "  최근 100 에피소드 성공률: 8.0%\n",
      "  현재 ε: 0.010\n",
      "  방문한 상태 수: 11\n",
      "  총 업데이트 횟수: 3785\n",
      "\n",
      "Episode 1000/5000\n",
      "  최근 500 에피소드 평균 보상: 0.082\n",
      "  최근 100 에피소드 성공률: 9.0%\n",
      "  현재 ε: 0.010\n",
      "  방문한 상태 수: 11\n",
      "  총 업데이트 횟수: 8002\n"
     ]
    },
    {
     "name": "stderr",
     "output_type": "stream",
     "text": [
      "훈련 진행:  34%|███▍      | 1707/5000 [00:00<00:00, 4308.99it/s]"
     ]
    },
    {
     "name": "stdout",
     "output_type": "stream",
     "text": [
      "\n",
      "Episode 1500/5000\n",
      "  최근 500 에피소드 평균 보상: 0.152\n",
      "  최근 100 에피소드 성공률: 20.0%\n",
      "  현재 ε: 0.010\n",
      "  방문한 상태 수: 11\n",
      "  총 업데이트 횟수: 15897\n"
     ]
    },
    {
     "name": "stderr",
     "output_type": "stream",
     "text": [
      "훈련 진행:  43%|████▎     | 2164/5000 [00:00<00:00, 3616.45it/s]"
     ]
    },
    {
     "name": "stdout",
     "output_type": "stream",
     "text": [
      "\n",
      "Episode 2000/5000\n",
      "  최근 500 에피소드 평균 보상: 0.166\n",
      "  최근 100 에피소드 성공률: 14.0%\n",
      "  현재 ε: 0.010\n",
      "  방문한 상태 수: 11\n",
      "  총 업데이트 횟수: 24942\n",
      "\n",
      "Episode 2500/5000\n",
      "  최근 500 에피소드 평균 보상: 0.386\n",
      "  최근 100 에피소드 성공률: 50.0%\n",
      "  현재 ε: 0.010\n",
      "  방문한 상태 수: 11\n",
      "  총 업데이트 횟수: 38428\n"
     ]
    },
    {
     "name": "stderr",
     "output_type": "stream",
     "text": [
      "훈련 진행:  57%|█████▋    | 2859/5000 [00:00<00:00, 2485.72it/s]"
     ]
    },
    {
     "name": "stdout",
     "output_type": "stream",
     "text": [
      "\n",
      "Episode 3000/5000\n",
      "  최근 500 에피소드 평균 보상: 0.490\n",
      "  최근 100 에피소드 성공률: 42.0%\n",
      "  현재 ε: 0.010\n",
      "  방문한 상태 수: 11\n",
      "  총 업데이트 횟수: 53656\n"
     ]
    },
    {
     "name": "stderr",
     "output_type": "stream",
     "text": [
      "훈련 진행:  68%|██████▊   | 3375/5000 [00:01<00:00, 2162.36it/s]"
     ]
    },
    {
     "name": "stdout",
     "output_type": "stream",
     "text": [
      "\n",
      "Episode 3500/5000\n",
      "  최근 500 에피소드 평균 보상: 0.510\n",
      "  최근 100 에피소드 성공률: 43.0%\n",
      "  현재 ε: 0.010\n",
      "  방문한 상태 수: 11\n",
      "  총 업데이트 횟수: 69011\n"
     ]
    },
    {
     "name": "stderr",
     "output_type": "stream",
     "text": [
      "훈련 진행:  92%|█████████▏| 4609/5000 [00:01<00:00, 1787.44it/s]"
     ]
    },
    {
     "name": "stdout",
     "output_type": "stream",
     "text": [
      "\n",
      "Episode 4000/5000\n",
      "  최근 500 에피소드 평균 보상: 0.494\n",
      "  최근 100 에피소드 성공률: 52.0%\n",
      "  현재 ε: 0.010\n",
      "  방문한 상태 수: 11\n",
      "  총 업데이트 횟수: 85174\n",
      "\n",
      "Episode 4500/5000\n",
      "  최근 500 에피소드 평균 보상: 0.450\n",
      "  최근 100 에피소드 성공률: 46.0%\n",
      "  현재 ε: 0.010\n",
      "  방문한 상태 수: 11\n",
      "  총 업데이트 횟수: 99668\n"
     ]
    },
    {
     "name": "stderr",
     "output_type": "stream",
     "text": [
      "훈련 진행: 100%|██████████| 5000/5000 [00:02<00:00, 2300.23it/s]"
     ]
    },
    {
     "name": "stdout",
     "output_type": "stream",
     "text": [
      "\n",
      "Episode 5000/5000\n",
      "  최근 500 에피소드 평균 보상: 0.494\n",
      "  최근 100 에피소드 성공률: 38.0%\n",
      "  현재 ε: 0.010\n",
      "  방문한 상태 수: 11\n",
      "  총 업데이트 횟수: 116552\n",
      "\n",
      "=== 훈련 완료 ===\n",
      "최종 성공률 (최근 100): 38.0%\n",
      "전체 성공률: 32.6%\n",
      "최종 ε: 0.010\n",
      "총 방문 상태: 11/16\n",
      "총 Q-table 업데이트: 116552\n",
      "Q-table saved to q_table.npy\n",
      "메타데이터 저장: q_table_metadata.json\n",
      "Q-table 크기: (16, 4)\n",
      "저장된 파일 크기: 640 bytes\n"
     ]
    },
    {
     "name": "stderr",
     "output_type": "stream",
     "text": [
      "\n"
     ]
    }
   ],
   "source": [
    "# 최고 성능 모델로 다시 훈련 (저장용)\n",
    "print(\"=== 최종 모델 훈련 및 저장 ===\")\n",
    "\n",
    "# 최고 성능 설정으로 재훈련\n",
    "best_params = best_experiment['params']\n",
    "env = gym.make(\"FrozenLake-v1\", map_name=\"4x4\", is_slippery=True, render_mode=None)\n",
    "\n",
    "final_agent = QLearningAgent(\n",
    "    state_size=env.observation_space.n,\n",
    "    action_size=env.action_space.n,\n",
    "    learning_rate=best_params['alpha'],\n",
    "    discount_factor=best_params['gamma'],\n",
    "    epsilon_decay=best_params['eps_decay']\n",
    ")\n",
    "\n",
    "final_stats = train_q_learning(\n",
    "    env=env,\n",
    "    agent=final_agent,\n",
    "    num_episodes=5000,\n",
    "    verbose=True\n",
    ")\n",
    "\n",
    "env.close()\n",
    "\n",
    "# Q-table 저장\n",
    "if LOCAL_ENV:\n",
    "    # 로컬 환경\n",
    "    save_path = \"../weights/q_table.npy\"\n",
    "    os.makedirs(\"../weights\", exist_ok=True)\n",
    "else:\n",
    "    # Colab 환경\n",
    "    save_path = \"q_table.npy\"\n",
    "\n",
    "save_q_table(final_agent.q_table, save_path)\n",
    "\n",
    "# 하이퍼파라미터와 결과도 함께 저장\n",
    "metadata = {\n",
    "    'hyperparameters': best_params,\n",
    "    'final_success_rate': final_stats['final_success_rate'],\n",
    "    'overall_success_rate': final_stats['overall_success_rate'],\n",
    "    'training_episodes': 5000,\n",
    "    'environment': 'FrozenLake-v1_4x4_slippery',\n",
    "    'seed': SEED\n",
    "}\n",
    "\n",
    "metadata_path = save_path.replace('.npy', '_metadata.json')\n",
    "with open(metadata_path, 'w') as f:\n",
    "    json.dump(metadata, f, indent=2)\n",
    "\n",
    "print(f\"메타데이터 저장: {metadata_path}\")\n",
    "print(f\"Q-table 크기: {final_agent.q_table.shape}\")\n",
    "print(f\"저장된 파일 크기: {os.path.getsize(save_path)} bytes\")"
   ]
  },
  {
   "cell_type": "markdown",
   "metadata": {},
   "source": [
    "## 11. 저장된 모델 로드 및 검증"
   ]
  },
  {
   "cell_type": "code",
   "execution_count": 11,
   "metadata": {},
   "outputs": [
    {
     "name": "stdout",
     "output_type": "stream",
     "text": [
      "=== 저장된 모델 로드 및 검증 ===\n",
      "Q-table loaded from q_table.npy\n",
      "로드된 Q-table 크기: (16, 4)\n",
      "원본과 동일한가: True\n",
      "\n",
      "저장된 모델 정보:\n",
      "  최종 성공률: 38.0%\n",
      "  훈련 에피소드: 5000\n",
      "  하이퍼파라미터: {'name': 'Aggressive', 'alpha': 0.3, 'gamma': 0.95, 'eps_decay': 0.99}\n"
     ]
    }
   ],
   "source": [
    "# 저장된 Q-table 로드\n",
    "print(\"=== 저장된 모델 로드 및 검증 ===\")\n",
    "\n",
    "loaded_q_table = load_q_table(save_path)\n",
    "\n",
    "# 로드된 Q-table과 원본 비교\n",
    "print(f\"로드된 Q-table 크기: {loaded_q_table.shape}\")\n",
    "print(f\"원본과 동일한가: {np.array_equal(final_agent.q_table, loaded_q_table)}\")\n",
    "\n",
    "# 메타데이터 로드\n",
    "with open(metadata_path, 'r') as f:\n",
    "    loaded_metadata = json.load(f)\n",
    "\n",
    "print(f\"\\n저장된 모델 정보:\")\n",
    "print(f\"  최종 성공률: {loaded_metadata['final_success_rate']:.1f}%\")\n",
    "print(f\"  훈련 에피소드: {loaded_metadata['training_episodes']}\")\n",
    "print(f\"  하이퍼파라미터: {loaded_metadata['hyperparameters']}\")"
   ]
  },
  {
   "cell_type": "markdown",
   "metadata": {},
   "source": [
    "## 12. 학습된 정책 평가"
   ]
  },
  {
   "cell_type": "code",
   "execution_count": 12,
   "metadata": {},
   "outputs": [
    {
     "name": "stdout",
     "output_type": "stream",
     "text": [
      "\n",
      "=== 정책 평가 결과 (1000 에피소드) ===\n",
      "성공률: 60.8% (608/1000)\n",
      "평균 보상: 0.608\n",
      "평균 에피소드 길이: 36.0 스텝\n",
      "\n",
      "=== 무작위 정책과 비교 ===\n",
      "무작위 정책 성공률: 1.2%\n",
      "학습된 정책 성공률: 60.8%\n",
      "개선 정도: 50.7배\n",
      "\n",
      "목표 달성 여부 (>= 70%): ❌ 미달\n"
     ]
    }
   ],
   "source": [
    "def evaluate_policy(q_table, env, num_episodes=100, verbose=True):\n",
    "    \"\"\"\n",
    "    학습된 정책 평가 (greedy 정책만 사용)\n",
    "    \"\"\"\n",
    "    successes = 0\n",
    "    total_rewards = 0\n",
    "    episode_lengths = []\n",
    "    \n",
    "    for episode in range(num_episodes):\n",
    "        state, _ = env.reset()\n",
    "        episode_reward = 0\n",
    "        steps = 0\n",
    "        \n",
    "        while steps < 100:  # 최대 스텝 제한\n",
    "            # Greedy 행동 선택 (탐험 없음)\n",
    "            q_values = q_table[state]\n",
    "            action = np.random.choice(np.where(q_values == np.max(q_values))[0])\n",
    "            \n",
    "            state, reward, terminated, truncated, _ = env.step(action)\n",
    "            episode_reward += reward\n",
    "            steps += 1\n",
    "            \n",
    "            if terminated or truncated:\n",
    "                break\n",
    "        \n",
    "        if episode_reward > 0:\n",
    "            successes += 1\n",
    "        \n",
    "        total_rewards += episode_reward\n",
    "        episode_lengths.append(steps)\n",
    "    \n",
    "    success_rate = (successes / num_episodes) * 100\n",
    "    avg_reward = total_rewards / num_episodes\n",
    "    avg_length = np.mean(episode_lengths)\n",
    "    \n",
    "    if verbose:\n",
    "        print(f\"\\n=== 정책 평가 결과 ({num_episodes} 에피소드) ===\")\n",
    "        print(f\"성공률: {success_rate:.1f}% ({successes}/{num_episodes})\")\n",
    "        print(f\"평균 보상: {avg_reward:.3f}\")\n",
    "        print(f\"평균 에피소드 길이: {avg_length:.1f} 스텝\")\n",
    "    \n",
    "    return {\n",
    "        'success_rate': success_rate,\n",
    "        'average_reward': avg_reward,\n",
    "        'average_length': avg_length,\n",
    "        'num_episodes': num_episodes\n",
    "    }\n",
    "\n",
    "# 학습된 정책 평가\n",
    "env = gym.make(\"FrozenLake-v1\", map_name=\"4x4\", is_slippery=True, render_mode=None)\n",
    "evaluation_results = evaluate_policy(loaded_q_table, env, num_episodes=1000)\n",
    "env.close()\n",
    "\n",
    "# 무작위 정책과 비교\n",
    "print(\"\\n=== 무작위 정책과 비교 ===\")\n",
    "env = gym.make(\"FrozenLake-v1\", map_name=\"4x4\", is_slippery=True, render_mode=None)\n",
    "random_successes = 0\n",
    "for _ in range(1000):\n",
    "    state, _ = env.reset()\n",
    "    done = False\n",
    "    steps = 0\n",
    "    while not done and steps < 100:\n",
    "        action = env.action_space.sample()  # 무작위 행동\n",
    "        state, reward, terminated, truncated, _ = env.step(action)\n",
    "        done = terminated or truncated\n",
    "        steps += 1\n",
    "        if reward > 0:\n",
    "            random_successes += 1\n",
    "            break\n",
    "\n",
    "random_success_rate = (random_successes / 1000) * 100\n",
    "env.close()\n",
    "\n",
    "print(f\"무작위 정책 성공률: {random_success_rate:.1f}%\")\n",
    "print(f\"학습된 정책 성공률: {evaluation_results['success_rate']:.1f}%\")\n",
    "print(f\"개선 정도: {evaluation_results['success_rate'] / random_success_rate:.1f}배\")\n",
    "\n",
    "# 목표 달성 여부\n",
    "target_success_rate = 70\n",
    "print(f\"\\n목표 달성 여부 (>= {target_success_rate}%): \", end=\"\")\n",
    "if evaluation_results['success_rate'] >= target_success_rate:\n",
    "    print(\"✅ 성공!\")\n",
    "else:\n",
    "    print(\"❌ 미달\")"
   ]
  },
  {
   "cell_type": "markdown",
   "metadata": {},
   "source": [
    "## 13. 정책 시연"
   ]
  },
  {
   "cell_type": "code",
   "execution_count": 13,
   "metadata": {},
   "outputs": [
    {
     "name": "stdout",
     "output_type": "stream",
     "text": [
      "=== 학습된 정책 시연 (2 에피소드) ===\n",
      "\n",
      "--- Episode 1 ---\n",
      "시작 상태: 0\n",
      "Step 1: State 0, Action 0 (Left), Q-values: [0.06243362 0.06163811 0.05748968 0.06172199]\n",
      "         → Next state: 0, Reward: 0\n",
      "Step 2: State 0, Action 0 (Left), Q-values: [0.06243362 0.06163811 0.05748968 0.06172199]\n",
      "         → Next state: 0, Reward: 0\n",
      "Step 3: State 0, Action 0 (Left), Q-values: [0.06243362 0.06163811 0.05748968 0.06172199]\n",
      "         → Next state: 4, Reward: 0\n",
      "Step 4: State 4, Action 0 (Left), Q-values: [0.09662472 0.06845349 0.05806679 0.07302859]\n",
      "         → Next state: 0, Reward: 0\n",
      "Step 5: State 0, Action 0 (Left), Q-values: [0.06243362 0.06163811 0.05748968 0.06172199]\n",
      "         → Next state: 0, Reward: 0\n",
      "Step 6: State 0, Action 0 (Left), Q-values: [0.06243362 0.06163811 0.05748968 0.06172199]\n",
      "         → Next state: 4, Reward: 0\n",
      "Step 7: State 4, Action 0 (Left), Q-values: [0.09662472 0.06845349 0.05806679 0.07302859]\n",
      "         → Next state: 8, Reward: 0\n",
      "Step 8: State 8, Action 3 (Up), Q-values: [0.10502694 0.1139649  0.11778239 0.17622656]\n",
      "         → Next state: 9, Reward: 0\n",
      "Step 9: State 9, Action 1 (Down), Q-values: [0.20473218 0.24861633 0.17051174 0.16593983]\n",
      "         → Next state: 13, Reward: 0\n",
      "Step 10: State 13, Action 2 (Right), Q-values: [0.17657627 0.14154057 0.34907265 0.30550886]\n",
      "         → Next state: 9, Reward: 0\n",
      "Step 11: State 9, Action 1 (Down), Q-values: [0.20473218 0.24861633 0.17051174 0.16593983]\n",
      "         → Next state: 13, Reward: 0\n",
      "Step 12: State 13, Action 2 (Right), Q-values: [0.17657627 0.14154057 0.34907265 0.30550886]\n",
      "         → Next state: 13, Reward: 0\n",
      "Step 13: State 13, Action 2 (Right), Q-values: [0.17657627 0.14154057 0.34907265 0.30550886]\n",
      "         → Next state: 9, Reward: 0\n",
      "Step 14: State 9, Action 1 (Down), Q-values: [0.20473218 0.24861633 0.17051174 0.16593983]\n",
      "         → Next state: 10, Reward: 0\n",
      "Step 15: State 10, Action 1 (Down), Q-values: [0.18776316 0.19988075 0.05120264 0.13066942]\n",
      "         → Next state: 14, Reward: 0\n",
      "Step 16: State 14, Action 1 (Down), Q-values: [0.42229098 0.67358103 0.42218603 0.46457242]\n",
      "         → Next state: 15, Reward: 1\n",
      "Episode result: SUCCESS (Total reward: 1, Steps: 16)\n",
      "\n",
      "--- Episode 2 ---\n",
      "시작 상태: 0\n",
      "Step 1: State 0, Action 0 (Left), Q-values: [0.06243362 0.06163811 0.05748968 0.06172199]\n",
      "         → Next state: 4, Reward: 0\n",
      "Step 2: State 4, Action 0 (Left), Q-values: [0.09662472 0.06845349 0.05806679 0.07302859]\n",
      "         → Next state: 4, Reward: 0\n",
      "Step 3: State 4, Action 0 (Left), Q-values: [0.09662472 0.06845349 0.05806679 0.07302859]\n",
      "         → Next state: 4, Reward: 0\n",
      "Step 4: State 4, Action 0 (Left), Q-values: [0.09662472 0.06845349 0.05806679 0.07302859]\n",
      "         → Next state: 0, Reward: 0\n",
      "Step 5: State 0, Action 0 (Left), Q-values: [0.06243362 0.06163811 0.05748968 0.06172199]\n",
      "         → Next state: 4, Reward: 0\n",
      "Step 6: State 4, Action 0 (Left), Q-values: [0.09662472 0.06845349 0.05806679 0.07302859]\n",
      "         → Next state: 8, Reward: 0\n",
      "Step 7: State 8, Action 3 (Up), Q-values: [0.10502694 0.1139649  0.11778239 0.17622656]\n",
      "         → Next state: 9, Reward: 0\n",
      "Step 8: State 9, Action 1 (Down), Q-values: [0.20473218 0.24861633 0.17051174 0.16593983]\n",
      "         → Next state: 13, Reward: 0\n",
      "Step 9: State 13, Action 2 (Right), Q-values: [0.17657627 0.14154057 0.34907265 0.30550886]\n",
      "         → Next state: 9, Reward: 0\n",
      "Step 10: State 9, Action 1 (Down), Q-values: [0.20473218 0.24861633 0.17051174 0.16593983]\n",
      "         → Next state: 8, Reward: 0\n",
      "Step 11: State 8, Action 3 (Up), Q-values: [0.10502694 0.1139649  0.11778239 0.17622656]\n",
      "         → Next state: 9, Reward: 0\n",
      "Step 12: State 9, Action 1 (Down), Q-values: [0.20473218 0.24861633 0.17051174 0.16593983]\n",
      "         → Next state: 8, Reward: 0\n",
      "Step 13: State 8, Action 3 (Up), Q-values: [0.10502694 0.1139649  0.11778239 0.17622656]\n",
      "         → Next state: 9, Reward: 0\n",
      "Step 14: State 9, Action 1 (Down), Q-values: [0.20473218 0.24861633 0.17051174 0.16593983]\n",
      "         → Next state: 8, Reward: 0\n",
      "Step 15: State 8, Action 3 (Up), Q-values: [0.10502694 0.1139649  0.11778239 0.17622656]\n",
      "         → Next state: 9, Reward: 0\n",
      "Step 16: State 9, Action 1 (Down), Q-values: [0.20473218 0.24861633 0.17051174 0.16593983]\n",
      "         → Next state: 8, Reward: 0\n",
      "Step 17: State 8, Action 3 (Up), Q-values: [0.10502694 0.1139649  0.11778239 0.17622656]\n",
      "         → Next state: 8, Reward: 0\n",
      "Step 18: State 8, Action 3 (Up), Q-values: [0.10502694 0.1139649  0.11778239 0.17622656]\n",
      "         → Next state: 9, Reward: 0\n",
      "Step 19: State 9, Action 1 (Down), Q-values: [0.20473218 0.24861633 0.17051174 0.16593983]\n",
      "         → Next state: 10, Reward: 0\n",
      "Step 20: State 10, Action 1 (Down), Q-values: [0.18776316 0.19988075 0.05120264 0.13066942]\n",
      "         → Next state: 11, Reward: 0\n",
      "Episode result: FAILED (Total reward: 0, Steps: 20)\n"
     ]
    }
   ],
   "source": [
    "def demonstrate_policy(q_table, num_episodes=3, render_mode=\"rgb_array\"):\n",
    "    \"\"\"\n",
    "    학습된 정책을 시각적으로 시연\n",
    "    \"\"\"\n",
    "    env = gym.make(\"FrozenLake-v1\", map_name=\"4x4\", is_slippery=True, render_mode=render_mode)\n",
    "    action_names = ['Left', 'Down', 'Right', 'Up']\n",
    "    \n",
    "    print(f\"=== 학습된 정책 시연 ({num_episodes} 에피소드) ===\")\n",
    "    \n",
    "    for episode in range(num_episodes):\n",
    "        print(f\"\\n--- Episode {episode + 1} ---\")\n",
    "        state, _ = env.reset()\n",
    "        print(f\"시작 상태: {state}\")\n",
    "        \n",
    "        episode_reward = 0\n",
    "        step = 0\n",
    "        \n",
    "        while step < 100:\n",
    "            # Greedy 행동 선택\n",
    "            q_values = q_table[state]\n",
    "            action = np.random.choice(np.where(q_values == np.max(q_values))[0])\n",
    "            \n",
    "            print(f\"Step {step + 1}: State {state}, Action {action} ({action_names[action]}), Q-values: {q_values}\")\n",
    "            \n",
    "            next_state, reward, terminated, truncated, _ = env.step(action)\n",
    "            episode_reward += reward\n",
    "            \n",
    "            print(f\"         → Next state: {next_state}, Reward: {reward}\")\n",
    "            \n",
    "            state = next_state\n",
    "            step += 1\n",
    "            \n",
    "            if terminated or truncated:\n",
    "                break\n",
    "        \n",
    "        result = \"SUCCESS\" if episode_reward > 0 else \"FAILED\"\n",
    "        print(f\"Episode result: {result} (Total reward: {episode_reward}, Steps: {step})\")\n",
    "    \n",
    "    env.close()\n",
    "\n",
    "# 정책 시연 실행\n",
    "demonstrate_policy(loaded_q_table, num_episodes=2)"
   ]
  }
 ],
 "metadata": {
  "kernelspec": {
   "display_name": "dqn_atari",
   "language": "python",
   "name": "python3"
  },
  "language_info": {
   "codemirror_mode": {
    "name": "ipython",
    "version": 3
   },
   "file_extension": ".py",
   "mimetype": "text/x-python",
   "name": "python",
   "nbconvert_exporter": "python",
   "pygments_lexer": "ipython3",
   "version": "3.12.11"
  }
 },
 "nbformat": 4,
 "nbformat_minor": 4
}
